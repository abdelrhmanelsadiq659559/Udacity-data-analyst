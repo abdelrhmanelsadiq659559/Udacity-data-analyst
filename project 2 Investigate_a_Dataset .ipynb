{
 "cells": [
  {
   "cell_type": "markdown",
   "metadata": {},
   "source": [
    "# Project: Investigate a Dataset - [No-Show appointments] \n",
    "\n",
    "\n",
    "## Table of Contents\n",
    "<ul>\n",
    "<li><a href=\"#intro\">Introduction</a></li>\n",
    "<li><a href=\"#wrangling\">Data Wrangling</a></li>\n",
    "<li><a href=\"#eda\">Exploratory Data Analysis</a></li>\n",
    "<li><a href=\"#conclusions\">Conclusions</a></li>\n",
    "</ul>"
   ]
  },
  {
   "cell_type": "markdown",
   "metadata": {},
   "source": [
    "<a id='intro'></a>\n",
    "## Introduction\n",
    "\n",
    "### Dataset Description \n",
    "\n",
    "> This dataset collects information from 100k medical appointments in **Brazil** and is focused on the question of whether or not patients show up for their appointment. \n",
    "\n",
    "\n",
    ">A number of characteristics about the patient are included in each row.\n",
    "\n",
    "\n",
    ">- ScheduledDay tells us on what day the patient set up their appointment\n",
    "\n",
    "\n",
    ">- Gender  to know the gender of patient\n",
    "\n",
    "\n",
    ">- Age\t\n",
    "\n",
    "\n",
    ">- `[Hipertension\tDiabetes\tAlcoholism\tHandcap ]` columns     to show if patient have those illnesses  or not   \n",
    "\n",
    "\n",
    ">- Neighborhood indicates the location of the hospital. \n",
    " \n",
    " \n",
    ">- Scholarship indicates whether or not the patient is enrolled in Brasilian welfare program [Bolsa Família](https://www.google.com/url?q=https://en.wikipedia.org/wiki/Bolsa_Fam%25C3%25ADlia&sa=D&ust=1532469042119000). \n",
    "\n",
    " \n",
    "> Be careful about the encoding of the last column [NO-show]: it says Noif the patient showed up to their appointment, and Yes if they did not show up\n",
    "\n",
    "\n",
    " > you can see the data on [kaggle](https://www.google.com/url?q=https://www.kaggle.com/joniarroba/noshowappointments&sa=D&ust=1532469042118000)\n",
    "\n",
    "### Question(s) for Analysis\n",
    ">-What factors are important for us to know in order to predict if a patient will show up for their scheduled appointment\n",
    "\n",
    "\n",
    ">-does is there a patient who show up  go to Neighbourhood more than once if yes count of patients and find precentage of them    for people who show up   and   precentage of patients  who show up from all patients?\n",
    "\n",
    "\n",
    ">-What percentage from each category are patients who do show (No) and  patients who do not show (Yes)\n",
    "\n",
    "\n",
    ">-does is there a patient who show up  go to Neighbourhood more than once if yes count of patients and find precentage of them for people who show up  ? \n",
    " \n",
    ">-what is the most day and most month  in which  patients who showed up    went to hospital  \n",
    "\n",
    "\n",
    ">-five number summary of patient's age \n",
    "\n",
    "\n",
    ">-what is the percentage for each life stage \n",
    "\n",
    "\n",
    ">-which gender   have maximium  number of patients\n",
    "\n",
    "\n",
    ">-what is the relation between differnt illness and life stage \n",
    "\n",
    "\n",
    ">-how many males and female have all illnesses \n",
    "\n",
    "\n",
    ">-what is the top ten  Neighbourhood  whose  pateints who have Scholarship \n",
    "\n",
    "\n"
   ]
  },
  {
   "cell_type": "code",
   "execution_count": 1,
   "metadata": {},
   "outputs": [],
   "source": [
    "#  importing labir\n",
    "import pandas as pd \n",
    "import numpy as np\n",
    "import matplotlib.pyplot as plt\n",
    "%matplotlib inline"
   ]
  },
  {
   "cell_type": "markdown",
   "metadata": {},
   "source": [
    "<a id='wrangling'></a>\n",
    "## Data Wrangling"
   ]
  },
  {
   "cell_type": "markdown",
   "metadata": {},
   "source": [
    "### Data Gathering "
   ]
  },
  {
   "cell_type": "code",
   "execution_count": 2,
   "metadata": {},
   "outputs": [],
   "source": [
    "# Loading  the  data \n",
    "df=pd.read_csv(\"noshowappointments-kagglev2-may-2016.csv\")"
   ]
  },
  {
   "cell_type": "markdown",
   "metadata": {},
   "source": [
    "### Accessing Data"
   ]
  },
  {
   "cell_type": "code",
   "execution_count": 3,
   "metadata": {},
   "outputs": [
    {
     "data": {
      "text/html": [
       "<div>\n",
       "<style scoped>\n",
       "    .dataframe tbody tr th:only-of-type {\n",
       "        vertical-align: middle;\n",
       "    }\n",
       "\n",
       "    .dataframe tbody tr th {\n",
       "        vertical-align: top;\n",
       "    }\n",
       "\n",
       "    .dataframe thead th {\n",
       "        text-align: right;\n",
       "    }\n",
       "</style>\n",
       "<table border=\"1\" class=\"dataframe\">\n",
       "  <thead>\n",
       "    <tr style=\"text-align: right;\">\n",
       "      <th></th>\n",
       "      <th>PatientId</th>\n",
       "      <th>AppointmentID</th>\n",
       "      <th>Gender</th>\n",
       "      <th>ScheduledDay</th>\n",
       "      <th>AppointmentDay</th>\n",
       "      <th>Age</th>\n",
       "      <th>Neighbourhood</th>\n",
       "      <th>Scholarship</th>\n",
       "      <th>Hipertension</th>\n",
       "      <th>Diabetes</th>\n",
       "      <th>Alcoholism</th>\n",
       "      <th>Handcap</th>\n",
       "      <th>SMS_received</th>\n",
       "      <th>No-show</th>\n",
       "    </tr>\n",
       "  </thead>\n",
       "  <tbody>\n",
       "    <tr>\n",
       "      <th>0</th>\n",
       "      <td>2.987250e+13</td>\n",
       "      <td>5642903</td>\n",
       "      <td>F</td>\n",
       "      <td>2016-04-29T18:38:08Z</td>\n",
       "      <td>2016-04-29T00:00:00Z</td>\n",
       "      <td>62</td>\n",
       "      <td>JARDIM DA PENHA</td>\n",
       "      <td>0</td>\n",
       "      <td>1</td>\n",
       "      <td>0</td>\n",
       "      <td>0</td>\n",
       "      <td>0</td>\n",
       "      <td>0</td>\n",
       "      <td>No</td>\n",
       "    </tr>\n",
       "    <tr>\n",
       "      <th>1</th>\n",
       "      <td>5.589978e+14</td>\n",
       "      <td>5642503</td>\n",
       "      <td>M</td>\n",
       "      <td>2016-04-29T16:08:27Z</td>\n",
       "      <td>2016-04-29T00:00:00Z</td>\n",
       "      <td>56</td>\n",
       "      <td>JARDIM DA PENHA</td>\n",
       "      <td>0</td>\n",
       "      <td>0</td>\n",
       "      <td>0</td>\n",
       "      <td>0</td>\n",
       "      <td>0</td>\n",
       "      <td>0</td>\n",
       "      <td>No</td>\n",
       "    </tr>\n",
       "    <tr>\n",
       "      <th>2</th>\n",
       "      <td>4.262962e+12</td>\n",
       "      <td>5642549</td>\n",
       "      <td>F</td>\n",
       "      <td>2016-04-29T16:19:04Z</td>\n",
       "      <td>2016-04-29T00:00:00Z</td>\n",
       "      <td>62</td>\n",
       "      <td>MATA DA PRAIA</td>\n",
       "      <td>0</td>\n",
       "      <td>0</td>\n",
       "      <td>0</td>\n",
       "      <td>0</td>\n",
       "      <td>0</td>\n",
       "      <td>0</td>\n",
       "      <td>No</td>\n",
       "    </tr>\n",
       "    <tr>\n",
       "      <th>3</th>\n",
       "      <td>8.679512e+11</td>\n",
       "      <td>5642828</td>\n",
       "      <td>F</td>\n",
       "      <td>2016-04-29T17:29:31Z</td>\n",
       "      <td>2016-04-29T00:00:00Z</td>\n",
       "      <td>8</td>\n",
       "      <td>PONTAL DE CAMBURI</td>\n",
       "      <td>0</td>\n",
       "      <td>0</td>\n",
       "      <td>0</td>\n",
       "      <td>0</td>\n",
       "      <td>0</td>\n",
       "      <td>0</td>\n",
       "      <td>No</td>\n",
       "    </tr>\n",
       "    <tr>\n",
       "      <th>4</th>\n",
       "      <td>8.841186e+12</td>\n",
       "      <td>5642494</td>\n",
       "      <td>F</td>\n",
       "      <td>2016-04-29T16:07:23Z</td>\n",
       "      <td>2016-04-29T00:00:00Z</td>\n",
       "      <td>56</td>\n",
       "      <td>JARDIM DA PENHA</td>\n",
       "      <td>0</td>\n",
       "      <td>1</td>\n",
       "      <td>1</td>\n",
       "      <td>0</td>\n",
       "      <td>0</td>\n",
       "      <td>0</td>\n",
       "      <td>No</td>\n",
       "    </tr>\n",
       "  </tbody>\n",
       "</table>\n",
       "</div>"
      ],
      "text/plain": [
       "      PatientId  AppointmentID Gender          ScheduledDay  \\\n",
       "0  2.987250e+13        5642903      F  2016-04-29T18:38:08Z   \n",
       "1  5.589978e+14        5642503      M  2016-04-29T16:08:27Z   \n",
       "2  4.262962e+12        5642549      F  2016-04-29T16:19:04Z   \n",
       "3  8.679512e+11        5642828      F  2016-04-29T17:29:31Z   \n",
       "4  8.841186e+12        5642494      F  2016-04-29T16:07:23Z   \n",
       "\n",
       "         AppointmentDay  Age      Neighbourhood  Scholarship  Hipertension  \\\n",
       "0  2016-04-29T00:00:00Z   62    JARDIM DA PENHA            0             1   \n",
       "1  2016-04-29T00:00:00Z   56    JARDIM DA PENHA            0             0   \n",
       "2  2016-04-29T00:00:00Z   62      MATA DA PRAIA            0             0   \n",
       "3  2016-04-29T00:00:00Z    8  PONTAL DE CAMBURI            0             0   \n",
       "4  2016-04-29T00:00:00Z   56    JARDIM DA PENHA            0             1   \n",
       "\n",
       "   Diabetes  Alcoholism  Handcap  SMS_received No-show  \n",
       "0         0           0        0             0      No  \n",
       "1         0           0        0             0      No  \n",
       "2         0           0        0             0      No  \n",
       "3         0           0        0             0      No  \n",
       "4         1           0        0             0      No  "
      ]
     },
     "execution_count": 3,
     "metadata": {},
     "output_type": "execute_result"
    }
   ],
   "source": [
    "# print first five rows \n",
    "df.head()"
   ]
  },
  {
   "cell_type": "code",
   "execution_count": 4,
   "metadata": {},
   "outputs": [
    {
     "name": "stdout",
     "output_type": "stream",
     "text": [
      "<class 'pandas.core.frame.DataFrame'>\n",
      "RangeIndex: 110527 entries, 0 to 110526\n",
      "Data columns (total 14 columns):\n",
      " #   Column          Non-Null Count   Dtype  \n",
      "---  ------          --------------   -----  \n",
      " 0   PatientId       110527 non-null  float64\n",
      " 1   AppointmentID   110527 non-null  int64  \n",
      " 2   Gender          110527 non-null  object \n",
      " 3   ScheduledDay    110527 non-null  object \n",
      " 4   AppointmentDay  110527 non-null  object \n",
      " 5   Age             110527 non-null  int64  \n",
      " 6   Neighbourhood   110527 non-null  object \n",
      " 7   Scholarship     110527 non-null  int64  \n",
      " 8   Hipertension    110527 non-null  int64  \n",
      " 9   Diabetes        110527 non-null  int64  \n",
      " 10  Alcoholism      110527 non-null  int64  \n",
      " 11  Handcap         110527 non-null  int64  \n",
      " 12  SMS_received    110527 non-null  int64  \n",
      " 13  No-show         110527 non-null  object \n",
      "dtypes: float64(1), int64(8), object(5)\n",
      "memory usage: 11.8+ MB\n"
     ]
    }
   ],
   "source": [
    "# get datatypes of data and non null values\n",
    "df.info()"
   ]
  },
  {
   "cell_type": "code",
   "execution_count": 5,
   "metadata": {},
   "outputs": [
    {
     "data": {
      "text/plain": [
       "PatientId         0\n",
       "AppointmentID     0\n",
       "Gender            0\n",
       "ScheduledDay      0\n",
       "AppointmentDay    0\n",
       "Age               0\n",
       "Neighbourhood     0\n",
       "Scholarship       0\n",
       "Hipertension      0\n",
       "Diabetes          0\n",
       "Alcoholism        0\n",
       "Handcap           0\n",
       "SMS_received      0\n",
       "No-show           0\n",
       "dtype: int64"
      ]
     },
     "execution_count": 5,
     "metadata": {},
     "output_type": "execute_result"
    }
   ],
   "source": [
    "#check count of null values in each ccolumn \n",
    "df.isnull().sum()"
   ]
  },
  {
   "cell_type": "code",
   "execution_count": 6,
   "metadata": {},
   "outputs": [
    {
     "data": {
      "text/plain": [
       "0"
      ]
     },
     "execution_count": 6,
     "metadata": {},
     "output_type": "execute_result"
    }
   ],
   "source": [
    "#check duplacted rows\n",
    "sum(df.duplicated())"
   ]
  },
  {
   "cell_type": "code",
   "execution_count": 7,
   "metadata": {},
   "outputs": [
    {
     "data": {
      "text/plain": [
       "48228"
      ]
     },
     "execution_count": 7,
     "metadata": {},
     "output_type": "execute_result"
    }
   ],
   "source": [
    "#check dduplicated in PatientId columcolumn \n",
    "sum(df.PatientId.duplicated())"
   ]
  },
  {
   "cell_type": "code",
   "execution_count": 8,
   "metadata": {},
   "outputs": [
    {
     "data": {
      "text/plain": [
       "8.221459e+14    87\n",
       "9.963767e+10    83\n",
       "2.688613e+13    69\n",
       "3.353478e+13    64\n",
       "6.264199e+12    61\n",
       "                ..\n",
       "2.539324e+14     1\n",
       "5.677162e+11     1\n",
       "2.154335e+09     1\n",
       "5.118325e+13     1\n",
       "3.775115e+14     1\n",
       "Name: PatientId, Length: 24379, dtype: int64"
      ]
     },
     "execution_count": 8,
     "metadata": {},
     "output_type": "execute_result"
    }
   ],
   "source": [
    "# view num of duplicated values for  each patients have duplicated  patient id \n",
    "id_duplicate = df[df.PatientId.duplicated() == True]\n",
    "id_duplicate.PatientId.value_counts()"
   ]
  },
  {
   "cell_type": "code",
   "execution_count": 9,
   "metadata": {},
   "outputs": [
    {
     "name": "stdout",
     "output_type": "stream",
     "text": [
      "unique values of columns Gender are :['F' 'M']\n",
      "\n",
      "unique values of columns Age are :[ 62  56   8  76  23  39  21  19  30  29  22  28  54  15  50  40  46   4\n",
      "  13  65  45  51  32  12  61  38  79  18  63  64  85  59  55  71  49  78\n",
      "  31  58  27   6   2  11   7   0   3   1  69  68  60  67  36  10  35  20\n",
      "  26  34  33  16  42   5  47  17  41  44  37  24  66  77  81  70  53  75\n",
      "  73  52  74  43  89  57  14   9  48  83  72  25  80  87  88  84  82  90\n",
      "  94  86  91  98  92  96  93  95  97 102 115 100  99  -1]\n",
      "\n",
      "unique values of columns Scholarship are :[0 1]\n",
      "\n",
      "unique values of columns Hipertension are :[1 0]\n",
      "\n",
      "unique values of columns Diabetes are :[0 1]\n",
      "\n",
      "unique values of columns Alcoholism are :[0 1]\n",
      "\n",
      "unique values of columns Handcap are :[0 1 2 3 4]\n",
      "\n",
      "unique values of columns SMS_received are :[0 1]\n",
      "\n",
      "unique values of columns No-show are :['No' 'Yes']\n",
      "\n"
     ]
    }
   ],
   "source": [
    "# show unique values for some columns in dataset \n",
    "selected_columns=['Gender', 'Age',\n",
    "        'Scholarship', 'Hipertension', 'Diabetes',\n",
    "       'Alcoholism', 'Handcap', 'SMS_received', 'No-show']\n",
    "for i in selected_columns:\n",
    "    print(f\"unique values of columns {i} are :{df[i].unique()}\\n\")"
   ]
  },
  {
   "cell_type": "code",
   "execution_count": 10,
   "metadata": {
    "scrolled": true
   },
   "outputs": [
    {
     "data": {
      "text/html": [
       "<div>\n",
       "<style scoped>\n",
       "    .dataframe tbody tr th:only-of-type {\n",
       "        vertical-align: middle;\n",
       "    }\n",
       "\n",
       "    .dataframe tbody tr th {\n",
       "        vertical-align: top;\n",
       "    }\n",
       "\n",
       "    .dataframe thead th {\n",
       "        text-align: right;\n",
       "    }\n",
       "</style>\n",
       "<table border=\"1\" class=\"dataframe\">\n",
       "  <thead>\n",
       "    <tr style=\"text-align: right;\">\n",
       "      <th></th>\n",
       "      <th>PatientId</th>\n",
       "      <th>AppointmentID</th>\n",
       "      <th>Gender</th>\n",
       "      <th>ScheduledDay</th>\n",
       "      <th>AppointmentDay</th>\n",
       "      <th>Age</th>\n",
       "      <th>Neighbourhood</th>\n",
       "      <th>Scholarship</th>\n",
       "      <th>Hipertension</th>\n",
       "      <th>Diabetes</th>\n",
       "      <th>Alcoholism</th>\n",
       "      <th>Handcap</th>\n",
       "      <th>SMS_received</th>\n",
       "      <th>No-show</th>\n",
       "    </tr>\n",
       "  </thead>\n",
       "  <tbody>\n",
       "    <tr>\n",
       "      <th>99832</th>\n",
       "      <td>4.659432e+14</td>\n",
       "      <td>5775010</td>\n",
       "      <td>F</td>\n",
       "      <td>2016-06-06T08:58:13Z</td>\n",
       "      <td>2016-06-06T00:00:00Z</td>\n",
       "      <td>-1</td>\n",
       "      <td>ROMÃO</td>\n",
       "      <td>0</td>\n",
       "      <td>0</td>\n",
       "      <td>0</td>\n",
       "      <td>0</td>\n",
       "      <td>0</td>\n",
       "      <td>0</td>\n",
       "      <td>No</td>\n",
       "    </tr>\n",
       "  </tbody>\n",
       "</table>\n",
       "</div>"
      ],
      "text/plain": [
       "          PatientId  AppointmentID Gender          ScheduledDay  \\\n",
       "99832  4.659432e+14        5775010      F  2016-06-06T08:58:13Z   \n",
       "\n",
       "             AppointmentDay  Age Neighbourhood  Scholarship  Hipertension  \\\n",
       "99832  2016-06-06T00:00:00Z   -1         ROMÃO            0             0   \n",
       "\n",
       "       Diabetes  Alcoholism  Handcap  SMS_received No-show  \n",
       "99832         0           0        0             0      No  "
      ]
     },
     "execution_count": 10,
     "metadata": {},
     "output_type": "execute_result"
    }
   ],
   "source": [
    "#check age less than zero\n",
    "df[df.Age <0]"
   ]
  },
  {
   "cell_type": "markdown",
   "metadata": {},
   "source": [
    "##### problems to slove "
   ]
  },
  {
   "cell_type": "markdown",
   "metadata": {},
   "source": [
    ">- some columns name should be changed   (AppointmentID to Appointment_ID  ,ScheduledDay  to Scheduled_Day ,AppointmentDay  to Appointment_Day  ,No-show to No_show.\n",
    "\n",
    "\n",
    ">- make name of columns lower case  \n",
    "\n",
    "\n",
    ">- PatientId should be intger dtype  and 12 14 num\n",
    "\n",
    "\n",
    ">- set patientid as index \n",
    "\n",
    "\n",
    ">- set gender Male instead of M and Female instead of F \n",
    "\n",
    "\n",
    ">- ScheduledDay should be datetime in format  %Y-%m-%d %H:%M:%S\n",
    "\n",
    "\n",
    ">- AppointmentDay should be datetime  \"%Y-%m-%d\"\n",
    "\n",
    "\n",
    ">- Neighbourhood convert cell to lower characters instead of upper characters \n",
    "\n",
    "\n",
    ">- there is patient whose age equal -1   should be moved to a separted dataframe"
   ]
  },
  {
   "cell_type": "markdown",
   "metadata": {},
   "source": [
    "\n",
    "### Data Cleaning\n",
    "\n",
    " "
   ]
  },
  {
   "cell_type": "code",
   "execution_count": 11,
   "metadata": {},
   "outputs": [],
   "source": [
    "# rename columns \n",
    "df.rename(columns={\"PatientId\":\"Patient_Id\",\"AppointmentID\":\"Appointment_ID\",\"ScheduledDay\":\"Scheduled_Day\"\n",
    "                   ,\"AppointmentDay\":\"Appointment_Day\",\"No-show\":\"No_show\"},inplace=True)\n",
    "df.rename(columns=lambda x: x.lower(),inplace=True)"
   ]
  },
  {
   "cell_type": "code",
   "execution_count": 12,
   "metadata": {},
   "outputs": [
    {
     "data": {
      "text/html": [
       "<div>\n",
       "<style scoped>\n",
       "    .dataframe tbody tr th:only-of-type {\n",
       "        vertical-align: middle;\n",
       "    }\n",
       "\n",
       "    .dataframe tbody tr th {\n",
       "        vertical-align: top;\n",
       "    }\n",
       "\n",
       "    .dataframe thead th {\n",
       "        text-align: right;\n",
       "    }\n",
       "</style>\n",
       "<table border=\"1\" class=\"dataframe\">\n",
       "  <thead>\n",
       "    <tr style=\"text-align: right;\">\n",
       "      <th></th>\n",
       "      <th>patient_id</th>\n",
       "      <th>appointment_id</th>\n",
       "      <th>gender</th>\n",
       "      <th>scheduled_day</th>\n",
       "      <th>appointment_day</th>\n",
       "      <th>age</th>\n",
       "      <th>neighbourhood</th>\n",
       "      <th>scholarship</th>\n",
       "      <th>hipertension</th>\n",
       "      <th>diabetes</th>\n",
       "      <th>alcoholism</th>\n",
       "      <th>handcap</th>\n",
       "      <th>sms_received</th>\n",
       "      <th>no_show</th>\n",
       "    </tr>\n",
       "  </thead>\n",
       "  <tbody>\n",
       "    <tr>\n",
       "      <th>0</th>\n",
       "      <td>2.987250e+13</td>\n",
       "      <td>5642903</td>\n",
       "      <td>F</td>\n",
       "      <td>2016-04-29T18:38:08Z</td>\n",
       "      <td>2016-04-29T00:00:00Z</td>\n",
       "      <td>62</td>\n",
       "      <td>JARDIM DA PENHA</td>\n",
       "      <td>0</td>\n",
       "      <td>1</td>\n",
       "      <td>0</td>\n",
       "      <td>0</td>\n",
       "      <td>0</td>\n",
       "      <td>0</td>\n",
       "      <td>No</td>\n",
       "    </tr>\n",
       "    <tr>\n",
       "      <th>1</th>\n",
       "      <td>5.589978e+14</td>\n",
       "      <td>5642503</td>\n",
       "      <td>M</td>\n",
       "      <td>2016-04-29T16:08:27Z</td>\n",
       "      <td>2016-04-29T00:00:00Z</td>\n",
       "      <td>56</td>\n",
       "      <td>JARDIM DA PENHA</td>\n",
       "      <td>0</td>\n",
       "      <td>0</td>\n",
       "      <td>0</td>\n",
       "      <td>0</td>\n",
       "      <td>0</td>\n",
       "      <td>0</td>\n",
       "      <td>No</td>\n",
       "    </tr>\n",
       "    <tr>\n",
       "      <th>2</th>\n",
       "      <td>4.262962e+12</td>\n",
       "      <td>5642549</td>\n",
       "      <td>F</td>\n",
       "      <td>2016-04-29T16:19:04Z</td>\n",
       "      <td>2016-04-29T00:00:00Z</td>\n",
       "      <td>62</td>\n",
       "      <td>MATA DA PRAIA</td>\n",
       "      <td>0</td>\n",
       "      <td>0</td>\n",
       "      <td>0</td>\n",
       "      <td>0</td>\n",
       "      <td>0</td>\n",
       "      <td>0</td>\n",
       "      <td>No</td>\n",
       "    </tr>\n",
       "    <tr>\n",
       "      <th>3</th>\n",
       "      <td>8.679512e+11</td>\n",
       "      <td>5642828</td>\n",
       "      <td>F</td>\n",
       "      <td>2016-04-29T17:29:31Z</td>\n",
       "      <td>2016-04-29T00:00:00Z</td>\n",
       "      <td>8</td>\n",
       "      <td>PONTAL DE CAMBURI</td>\n",
       "      <td>0</td>\n",
       "      <td>0</td>\n",
       "      <td>0</td>\n",
       "      <td>0</td>\n",
       "      <td>0</td>\n",
       "      <td>0</td>\n",
       "      <td>No</td>\n",
       "    </tr>\n",
       "    <tr>\n",
       "      <th>4</th>\n",
       "      <td>8.841186e+12</td>\n",
       "      <td>5642494</td>\n",
       "      <td>F</td>\n",
       "      <td>2016-04-29T16:07:23Z</td>\n",
       "      <td>2016-04-29T00:00:00Z</td>\n",
       "      <td>56</td>\n",
       "      <td>JARDIM DA PENHA</td>\n",
       "      <td>0</td>\n",
       "      <td>1</td>\n",
       "      <td>1</td>\n",
       "      <td>0</td>\n",
       "      <td>0</td>\n",
       "      <td>0</td>\n",
       "      <td>No</td>\n",
       "    </tr>\n",
       "  </tbody>\n",
       "</table>\n",
       "</div>"
      ],
      "text/plain": [
       "     patient_id  appointment_id gender         scheduled_day  \\\n",
       "0  2.987250e+13         5642903      F  2016-04-29T18:38:08Z   \n",
       "1  5.589978e+14         5642503      M  2016-04-29T16:08:27Z   \n",
       "2  4.262962e+12         5642549      F  2016-04-29T16:19:04Z   \n",
       "3  8.679512e+11         5642828      F  2016-04-29T17:29:31Z   \n",
       "4  8.841186e+12         5642494      F  2016-04-29T16:07:23Z   \n",
       "\n",
       "        appointment_day  age      neighbourhood  scholarship  hipertension  \\\n",
       "0  2016-04-29T00:00:00Z   62    JARDIM DA PENHA            0             1   \n",
       "1  2016-04-29T00:00:00Z   56    JARDIM DA PENHA            0             0   \n",
       "2  2016-04-29T00:00:00Z   62      MATA DA PRAIA            0             0   \n",
       "3  2016-04-29T00:00:00Z    8  PONTAL DE CAMBURI            0             0   \n",
       "4  2016-04-29T00:00:00Z   56    JARDIM DA PENHA            0             1   \n",
       "\n",
       "   diabetes  alcoholism  handcap  sms_received no_show  \n",
       "0         0           0        0             0      No  \n",
       "1         0           0        0             0      No  \n",
       "2         0           0        0             0      No  \n",
       "3         0           0        0             0      No  \n",
       "4         1           0        0             0      No  "
      ]
     },
     "execution_count": 12,
     "metadata": {},
     "output_type": "execute_result"
    }
   ],
   "source": [
    "#test \n",
    "df.head()"
   ]
  },
  {
   "cell_type": "code",
   "execution_count": 13,
   "metadata": {},
   "outputs": [],
   "source": [
    "# patient_id should be intger \n",
    "df.patient_id=df.patient_id.astype(np.int64)"
   ]
  },
  {
   "cell_type": "code",
   "execution_count": 14,
   "metadata": {},
   "outputs": [
    {
     "data": {
      "text/plain": [
       "dtype('int64')"
      ]
     },
     "execution_count": 14,
     "metadata": {},
     "output_type": "execute_result"
    }
   ],
   "source": [
    "#test\n",
    "df.patient_id.dtype"
   ]
  },
  {
   "cell_type": "code",
   "execution_count": 15,
   "metadata": {},
   "outputs": [],
   "source": [
    "# make Patient_Id  as index and drop duplicated colunm patient_id \n",
    "df=df.set_index(df.patient_id)\n",
    "df=df.drop('patient_id',axis=1)"
   ]
  },
  {
   "cell_type": "code",
   "execution_count": 16,
   "metadata": {},
   "outputs": [],
   "source": [
    "#- set gender Male instead of M and Female instead of F \n",
    "df.gender=df.gender.apply(lambda male : male.replace(\"M\",\"male\"))\n",
    "df.gender=df.gender.apply(lambda female : female.replace(\"F\",\"female\"))"
   ]
  },
  {
   "cell_type": "code",
   "execution_count": 17,
   "metadata": {},
   "outputs": [
    {
     "data": {
      "text/plain": [
       "array(['female', 'male'], dtype=object)"
      ]
     },
     "execution_count": 17,
     "metadata": {},
     "output_type": "execute_result"
    }
   ],
   "source": [
    "#test \n",
    "df.gender.unique()"
   ]
  },
  {
   "cell_type": "code",
   "execution_count": 18,
   "metadata": {},
   "outputs": [],
   "source": [
    "#Scheduled_Day to  datetime dtype\n",
    "######  to get scheduled_day column in format like this %y-%m-%d %H:%M:%S\n",
    "df.scheduled_day=pd.to_datetime(df.scheduled_day).dt.strftime('%Y-%m-%d %H:%M:%S')\n",
    "##### to get appointment_day column in format like this %y-%m-%d\n",
    "df.appointment_day=pd.to_datetime(df.appointment_day).dt.strftime('%Y-%m-%d')\n",
    "\n",
    "for i in  [\"appointment_day\",\"scheduled_day\"]: #to convert appointment_day and  scheduled_day datatype to datetime64\n",
    "     df[i]=pd.to_datetime(df[i])"
   ]
  },
  {
   "cell_type": "code",
   "execution_count": 19,
   "metadata": {},
   "outputs": [
    {
     "name": "stdout",
     "output_type": "stream",
     "text": [
      "<class 'pandas.core.frame.DataFrame'>\n",
      "Int64Index: 110527 entries, 29872499824296 to 377511518121127\n",
      "Data columns (total 13 columns):\n",
      " #   Column           Non-Null Count   Dtype         \n",
      "---  ------           --------------   -----         \n",
      " 0   appointment_id   110527 non-null  int64         \n",
      " 1   gender           110527 non-null  object        \n",
      " 2   scheduled_day    110527 non-null  datetime64[ns]\n",
      " 3   appointment_day  110527 non-null  datetime64[ns]\n",
      " 4   age              110527 non-null  int64         \n",
      " 5   neighbourhood    110527 non-null  object        \n",
      " 6   scholarship      110527 non-null  int64         \n",
      " 7   hipertension     110527 non-null  int64         \n",
      " 8   diabetes         110527 non-null  int64         \n",
      " 9   alcoholism       110527 non-null  int64         \n",
      " 10  handcap          110527 non-null  int64         \n",
      " 11  sms_received     110527 non-null  int64         \n",
      " 12  no_show          110527 non-null  object        \n",
      "dtypes: datetime64[ns](2), int64(8), object(3)\n",
      "memory usage: 11.8+ MB\n"
     ]
    }
   ],
   "source": [
    "#test\n",
    "df.info()"
   ]
  },
  {
   "cell_type": "code",
   "execution_count": 20,
   "metadata": {},
   "outputs": [],
   "source": [
    "# Neighbourhood convert cell to lower characters instead of upper characters\n",
    "df.neighbourhood=df.neighbourhood.str.lower()"
   ]
  },
  {
   "cell_type": "code",
   "execution_count": 21,
   "metadata": {},
   "outputs": [
    {
     "data": {
      "text/plain": [
       "patient_id\n",
       "29872499824296       jardim da penha\n",
       "558997776694438      jardim da penha\n",
       "4262962299951          mata da praia\n",
       "867951213174       pontal de camburi\n",
       "8841186448183        jardim da penha\n",
       "                         ...        \n",
       "2572134369293            maria ortiz\n",
       "3596266328735            maria ortiz\n",
       "15576631729893           maria ortiz\n",
       "92134931435557           maria ortiz\n",
       "377511518121127          maria ortiz\n",
       "Name: neighbourhood, Length: 110527, dtype: object"
      ]
     },
     "execution_count": 21,
     "metadata": {},
     "output_type": "execute_result"
    }
   ],
   "source": [
    "#test \n",
    "df.neighbourhood"
   ]
  },
  {
   "cell_type": "code",
   "execution_count": 22,
   "metadata": {},
   "outputs": [],
   "source": [
    "# put patient whose age -1 in speated dataframe\n",
    "out_df=df.query(\"age <0\")\n",
    "## drop it  dataframe\n",
    "df=df.drop([465943158731293])"
   ]
  },
  {
   "cell_type": "code",
   "execution_count": 23,
   "metadata": {},
   "outputs": [
    {
     "data": {
      "text/html": [
       "<div>\n",
       "<style scoped>\n",
       "    .dataframe tbody tr th:only-of-type {\n",
       "        vertical-align: middle;\n",
       "    }\n",
       "\n",
       "    .dataframe tbody tr th {\n",
       "        vertical-align: top;\n",
       "    }\n",
       "\n",
       "    .dataframe thead th {\n",
       "        text-align: right;\n",
       "    }\n",
       "</style>\n",
       "<table border=\"1\" class=\"dataframe\">\n",
       "  <thead>\n",
       "    <tr style=\"text-align: right;\">\n",
       "      <th></th>\n",
       "      <th>appointment_id</th>\n",
       "      <th>gender</th>\n",
       "      <th>scheduled_day</th>\n",
       "      <th>appointment_day</th>\n",
       "      <th>age</th>\n",
       "      <th>neighbourhood</th>\n",
       "      <th>scholarship</th>\n",
       "      <th>hipertension</th>\n",
       "      <th>diabetes</th>\n",
       "      <th>alcoholism</th>\n",
       "      <th>handcap</th>\n",
       "      <th>sms_received</th>\n",
       "      <th>no_show</th>\n",
       "    </tr>\n",
       "    <tr>\n",
       "      <th>patient_id</th>\n",
       "      <th></th>\n",
       "      <th></th>\n",
       "      <th></th>\n",
       "      <th></th>\n",
       "      <th></th>\n",
       "      <th></th>\n",
       "      <th></th>\n",
       "      <th></th>\n",
       "      <th></th>\n",
       "      <th></th>\n",
       "      <th></th>\n",
       "      <th></th>\n",
       "      <th></th>\n",
       "    </tr>\n",
       "  </thead>\n",
       "  <tbody>\n",
       "  </tbody>\n",
       "</table>\n",
       "</div>"
      ],
      "text/plain": [
       "Empty DataFrame\n",
       "Columns: [appointment_id, gender, scheduled_day, appointment_day, age, neighbourhood, scholarship, hipertension, diabetes, alcoholism, handcap, sms_received, no_show]\n",
       "Index: []"
      ]
     },
     "execution_count": 23,
     "metadata": {},
     "output_type": "execute_result"
    }
   ],
   "source": [
    "#test\n",
    "df.query(\"age <0\")"
   ]
  },
  {
   "cell_type": "markdown",
   "metadata": {},
   "source": [
    "<a id='eda'></a>\n",
    "## Exploratory Data Analysis\n",
    "\n",
    "\n",
    "\n"
   ]
  },
  {
   "cell_type": "code",
   "execution_count": 24,
   "metadata": {},
   "outputs": [],
   "source": [
    "def write_text_on_axis(xlabel,ylabel,title): \n",
    "    \"\"\" this functios is used to take \n",
    "     (str)  xlabel  string to write it on x-axis of plot \n",
    "     (str)  ylabel  string to write it on y-axis of plot \n",
    "     (str)  title   string to make it as title of plot \n",
    "    \n",
    "    \"\"\"\n",
    "\n",
    "    plt.xlabel(xlabel) \n",
    "    plt.ylabel(ylabel)\n",
    "    plt.title(title)"
   ]
  },
  {
   "cell_type": "markdown",
   "metadata": {},
   "source": [
    "### 1-What factors are important for us to know in order to predict if a patient will show up for their scheduled appointment  and precentage of patients  who show up from all patients?"
   ]
  },
  {
   "cell_type": "code",
   "execution_count": 25,
   "metadata": {},
   "outputs": [
    {
     "data": {
      "text/html": [
       "<div>\n",
       "<style scoped>\n",
       "    .dataframe tbody tr th:only-of-type {\n",
       "        vertical-align: middle;\n",
       "    }\n",
       "\n",
       "    .dataframe tbody tr th {\n",
       "        vertical-align: top;\n",
       "    }\n",
       "\n",
       "    .dataframe thead th {\n",
       "        text-align: right;\n",
       "    }\n",
       "</style>\n",
       "<table border=\"1\" class=\"dataframe\">\n",
       "  <thead>\n",
       "    <tr style=\"text-align: right;\">\n",
       "      <th></th>\n",
       "      <th>appointment_id</th>\n",
       "      <th>age</th>\n",
       "      <th>scholarship</th>\n",
       "      <th>hipertension</th>\n",
       "      <th>diabetes</th>\n",
       "      <th>alcoholism</th>\n",
       "      <th>handcap</th>\n",
       "      <th>sms_received</th>\n",
       "    </tr>\n",
       "  </thead>\n",
       "  <tbody>\n",
       "    <tr>\n",
       "      <th>count</th>\n",
       "      <td>88207.000</td>\n",
       "      <td>88207.000</td>\n",
       "      <td>88207.000</td>\n",
       "      <td>88207.000</td>\n",
       "      <td>88207.000</td>\n",
       "      <td>88207.000</td>\n",
       "      <td>88207.000</td>\n",
       "      <td>88207.000</td>\n",
       "    </tr>\n",
       "    <tr>\n",
       "      <th>mean</th>\n",
       "      <td>5681135.438</td>\n",
       "      <td>37.791</td>\n",
       "      <td>0.094</td>\n",
       "      <td>0.204</td>\n",
       "      <td>0.074</td>\n",
       "      <td>0.030</td>\n",
       "      <td>0.023</td>\n",
       "      <td>0.291</td>\n",
       "    </tr>\n",
       "    <tr>\n",
       "      <th>std</th>\n",
       "      <td>69311.926</td>\n",
       "      <td>23.339</td>\n",
       "      <td>0.292</td>\n",
       "      <td>0.403</td>\n",
       "      <td>0.262</td>\n",
       "      <td>0.172</td>\n",
       "      <td>0.163</td>\n",
       "      <td>0.454</td>\n",
       "    </tr>\n",
       "    <tr>\n",
       "      <th>min</th>\n",
       "      <td>5030230.000</td>\n",
       "      <td>0.000</td>\n",
       "      <td>0.000</td>\n",
       "      <td>0.000</td>\n",
       "      <td>0.000</td>\n",
       "      <td>0.000</td>\n",
       "      <td>0.000</td>\n",
       "      <td>0.000</td>\n",
       "    </tr>\n",
       "    <tr>\n",
       "      <th>25%</th>\n",
       "      <td>5646217.500</td>\n",
       "      <td>18.000</td>\n",
       "      <td>0.000</td>\n",
       "      <td>0.000</td>\n",
       "      <td>0.000</td>\n",
       "      <td>0.000</td>\n",
       "      <td>0.000</td>\n",
       "      <td>0.000</td>\n",
       "    </tr>\n",
       "    <tr>\n",
       "      <th>50%</th>\n",
       "      <td>5685683.000</td>\n",
       "      <td>38.000</td>\n",
       "      <td>0.000</td>\n",
       "      <td>0.000</td>\n",
       "      <td>0.000</td>\n",
       "      <td>0.000</td>\n",
       "      <td>0.000</td>\n",
       "      <td>0.000</td>\n",
       "    </tr>\n",
       "    <tr>\n",
       "      <th>75%</th>\n",
       "      <td>5731077.500</td>\n",
       "      <td>56.000</td>\n",
       "      <td>0.000</td>\n",
       "      <td>0.000</td>\n",
       "      <td>0.000</td>\n",
       "      <td>0.000</td>\n",
       "      <td>0.000</td>\n",
       "      <td>1.000</td>\n",
       "    </tr>\n",
       "    <tr>\n",
       "      <th>max</th>\n",
       "      <td>5790484.000</td>\n",
       "      <td>115.000</td>\n",
       "      <td>1.000</td>\n",
       "      <td>1.000</td>\n",
       "      <td>1.000</td>\n",
       "      <td>1.000</td>\n",
       "      <td>4.000</td>\n",
       "      <td>1.000</td>\n",
       "    </tr>\n",
       "  </tbody>\n",
       "</table>\n",
       "</div>"
      ],
      "text/plain": [
       "       appointment_id        age  scholarship  hipertension   diabetes  \\\n",
       "count       88207.000  88207.000    88207.000     88207.000  88207.000   \n",
       "mean      5681135.438     37.791        0.094         0.204      0.074   \n",
       "std         69311.926     23.339        0.292         0.403      0.262   \n",
       "min       5030230.000      0.000        0.000         0.000      0.000   \n",
       "25%       5646217.500     18.000        0.000         0.000      0.000   \n",
       "50%       5685683.000     38.000        0.000         0.000      0.000   \n",
       "75%       5731077.500     56.000        0.000         0.000      0.000   \n",
       "max       5790484.000    115.000        1.000         1.000      1.000   \n",
       "\n",
       "       alcoholism    handcap  sms_received  \n",
       "count   88207.000  88207.000     88207.000  \n",
       "mean        0.030      0.023         0.291  \n",
       "std         0.172      0.163         0.454  \n",
       "min         0.000      0.000         0.000  \n",
       "25%         0.000      0.000         0.000  \n",
       "50%         0.000      0.000         0.000  \n",
       "75%         0.000      0.000         1.000  \n",
       "max         1.000      4.000         1.000  "
      ]
     },
     "execution_count": 25,
     "metadata": {},
     "output_type": "execute_result"
    }
   ],
   "source": [
    "show_up_data=df.query(\"no_show =='No'\")   # get data of patient showed up\n",
    "No_show_up_data=df.query(\"no_show !='No'\")  # get data of patient they did not show up.\n",
    "\n",
    "show_up_data.describe().round(3) # get summary statistics for patient showed up  of different factor related to no show"
   ]
  },
  {
   "cell_type": "code",
   "execution_count": 26,
   "metadata": {},
   "outputs": [
    {
     "data": {
      "text/plain": [
       "'80%'"
      ]
     },
     "execution_count": 26,
     "metadata": {},
     "output_type": "execute_result"
    }
   ],
   "source": [
    "## get precentage of patients who show_up from all data set \n",
    "precentage_patients_show_up=str(round((show_up_data.shape[0]/df.shape[0])*100))+\"%\"  \n",
    "precentage_patients_show_up"
   ]
  },
  {
   "cell_type": "markdown",
   "metadata": {},
   "source": [
    ">patients  showed up about less than  25% of them  had illnesses(Hipertension-Alcoholism-Alcoholism-Alcoholism-Handcap,  \n",
    "average age about 38 years  and about of 80% of all patients"
   ]
  },
  {
   "cell_type": "markdown",
   "metadata": {},
   "source": [
    "#### 2-does is there a patient who show up  go to Neighbourhood more than once if yes count of patients and find precentage of them for people who show up  ? "
   ]
  },
  {
   "cell_type": "code",
   "execution_count": 27,
   "metadata": {},
   "outputs": [
    {
     "data": {
      "text/plain": [
       "'21%'"
      ]
     },
     "execution_count": 27,
     "metadata": {},
     "output_type": "execute_result"
    }
   ],
   "source": [
    "# get count of times of patient who show up tp  go to hospital\n",
    "patients_who_show_up =show_up_data.groupby([show_up_data.index]).count()[\"appointment_id\"] \n",
    "#get count of times of patient who show up tp  go to hospital who go more than once \n",
    "patients_who_show_up_more_one=patients_who_show_up[patients_who_show_up>1].shape[0]\n",
    "#find prestange of them \n",
    "presentage=str(round((patients_who_show_up_more_one/show_up_data.shape[0] )*100))+\"%\"\n",
    "presentage"
   ]
  },
  {
   "cell_type": "markdown",
   "metadata": {},
   "source": [
    ">about 21 % of patients who go to hosiptal in thier appointment go more than once"
   ]
  },
  {
   "cell_type": "markdown",
   "metadata": {},
   "source": [
    "#### 3-What percentage from each category are patients who do show (No) and  patients who do not show (Yes)"
   ]
  },
  {
   "cell_type": "code",
   "execution_count": 28,
   "metadata": {
    "scrolled": true
   },
   "outputs": [
    {
     "data": {
      "image/png": "[encoded data removed]",
      "text/plain": [
       "<Figure size 720x360 with 1 Axes>"
      ]
     },
     "metadata": {
      "needs_background": "light"
     },
     "output_type": "display_data"
    }
   ],
   "source": [
    "# get percentage from each category are patients who do show (No) and  patients who do not show (Yes) and make a bar chart for it \n",
    "df.groupby(\"gender\")[\"no_show\"].value_counts(normalize=True).mul(100).unstack(\"gender\").plot.bar(edgecolor=\"black\",\n",
    "                                                                                        figsize=[10,5],\n",
    "                                                                                        rot=0,\n",
    "                                                                                        width=.7,\n",
    "                                                                                       color=[\"orange\",\"lightblue\"]);\n",
    "# write good string in xlabel and ylabel and title \n",
    "write_text_on_axis(\"No show\",\"percentage\",\" Percentage from each category are patients who do show (No) or not(yes)\")"
   ]
  },
  {
   "cell_type": "markdown",
   "metadata": {},
   "source": [
    ">  about 80% of males and females do show up and about 20% of males and females do not  show up "
   ]
  },
  {
   "cell_type": "markdown",
   "metadata": {},
   "source": [
    "### 4-what is the most day and most month  in which  patients who showed up    went to hospital  "
   ]
  },
  {
   "cell_type": "markdown",
   "metadata": {},
   "source": [
    "#### most day"
   ]
  },
  {
   "cell_type": "code",
   "execution_count": 29,
   "metadata": {},
   "outputs": [
    {
     "data": {
      "text/plain": [
       "Timestamp('2016-06-06 00:00:00')"
      ]
     },
     "execution_count": 29,
     "metadata": {},
     "output_type": "execute_result"
    }
   ],
   "source": [
    "days_count=df.appointment_day.value_counts() # get count of appointment day for patients who showed up\n",
    "days_count.idxmax()"
   ]
  },
  {
   "cell_type": "markdown",
   "metadata": {},
   "source": [
    "#### most month"
   ]
  },
  {
   "cell_type": "code",
   "execution_count": 30,
   "metadata": {},
   "outputs": [
    {
     "data": {
      "image/png": "[encoded data removed]",
      "text/plain": [
       "<Figure size 432x288 with 1 Axes>"
      ]
     },
     "metadata": {},
     "output_type": "display_data"
    }
   ],
   "source": [
    "month_show_up_count=show_up_data.appointment_day.dt.month_name().value_counts()   # get count for months in showed up data \n",
    "plt.pie(month_show_up_count,labels=month_show_up_count.index,autopct=\"%.1f%%\");  # make a pie plot for months in show up data "
   ]
  },
  {
   "cell_type": "markdown",
   "metadata": {},
   "source": [
    "> May is The most stressful month in hospitals and 2016-06-06 is The most stressful day in hospitals "
   ]
  },
  {
   "cell_type": "markdown",
   "metadata": {},
   "source": [
    "###  5-five number summary of patient's age "
   ]
  },
  {
   "cell_type": "code",
   "execution_count": 31,
   "metadata": {},
   "outputs": [
    {
     "data": {
      "image/png": "[encoded data removed]",
      "text/plain": [
       "<Figure size 432x288 with 1 Axes>"
      ]
     },
     "metadata": {
      "needs_background": "light"
     },
     "output_type": "display_data"
    }
   ],
   "source": [
    "df.age.plot(kind=\"box\",fontsize=15) # to draw age summary as box plot \n",
    "write_text_on_axis(\"\",\"\",\"summary of patient  age\")  # to write title for photo"
   ]
  },
  {
   "cell_type": "code",
   "execution_count": 32,
   "metadata": {},
   "outputs": [
    {
     "data": {
      "text/plain": [
       "count    110526.000000\n",
       "mean         37.089219\n",
       "std          23.110026\n",
       "min           0.000000\n",
       "25%          18.000000\n",
       "50%          37.000000\n",
       "75%          55.000000\n",
       "max         115.000000\n",
       "Name: age, dtype: float64"
      ]
     },
     "execution_count": 32,
     "metadata": {},
     "output_type": "execute_result"
    }
   ],
   "source": [
    "df.age.describe()"
   ]
  },
  {
   "cell_type": "markdown",
   "metadata": {},
   "source": [
    "> the averge age of patients is 37 years old and it has range from 0 to 115 years old"
   ]
  },
  {
   "cell_type": "code",
   "execution_count": 33,
   "metadata": {},
   "outputs": [],
   "source": [
    "def make_pie_q5_q6(column_to_group_by,labels,title):\n",
    "    ''' this function take column name to count every uunique value of it and plot it in pie chart \n",
    "    (str) column_to_group_by  columns to groupby\n",
    "    (list) labels             labels to use it in pie chart \n",
    "    (str) title               string to make it the title of plot\n",
    "    '''\n",
    "    plt.figure(figsize=(4,4), dpi = 100) # to increase the quality of plot ,to Identifies the plot size\n",
    "    column_to_group_by_count=df.groupby(column_to_group_by).count()[\"appointment_id\"]  # to count number column_to_group_by in  data  set\n",
    "    \n",
    "    plt.pie(column_to_group_by_count,labels=labels,autopct=\"%.1f%%\");  # to make pie plot\n",
    "    plt.title(title); # ti make pie title "
   ]
  },
  {
   "cell_type": "markdown",
   "metadata": {},
   "source": [
    "### 6- what is the percentage for each life stage \n",
    "- Infant = 0-1 year\n",
    "- Toddler = 2-4 yrs\n",
    "- Child = 5-12 yrs\n",
    "- Teen = 13-19 yrs\n",
    "- Adult = 20-39 yrs\n",
    "- Middle Age Adult = 40-59 yrs\n",
    "- Senior Adult = 60+"
   ]
  },
  {
   "cell_type": "code",
   "execution_count": 34,
   "metadata": {},
   "outputs": [],
   "source": [
    "# i will make a columns which Identifies the life stage of person\n",
    "bins=[0,1,4,12,19,39,59,115] # bins to make ranges \n",
    "life_stage_labels=[\"Infant\",\"Toddler\",\"Child\",\"Teen\",\"Adult\",\"Middle Age Adult\",\"Senior Adult\"] # life stages for each range \n",
    "df.insert(5,\"life_stage\",pd.cut(df.age,bins=bins,labels=life_stage_labels,include_lowest=True)) # make inserting for columns contain life stage "
   ]
  },
  {
   "cell_type": "code",
   "execution_count": 35,
   "metadata": {},
   "outputs": [
    {
     "data": {
      "image/png": "[encoded data removed]",
      "text/plain": [
       "<Figure size 400x400 with 1 Axes>"
      ]
     },
     "metadata": {},
     "output_type": "display_data"
    }
   ],
   "source": [
    "# make a pie plot for life stages\n",
    "make_pie_q5_q6(\"life_stage\",life_stage_labels,\"Percentage of each life stage in dataset\")"
   ]
  },
  {
   "cell_type": "markdown",
   "metadata": {},
   "source": [
    ">about 27.2% of patients were middle age adult( 40-59 years) , 26.1 % are adult(20-39 years )  and 19.2 are senior adult(60+)  and about 27.6 are less than 18 years old"
   ]
  },
  {
   "cell_type": "markdown",
   "metadata": {},
   "source": [
    "### 7- which gender   have maximium  number of patients "
   ]
  },
  {
   "cell_type": "code",
   "execution_count": 36,
   "metadata": {},
   "outputs": [
    {
     "data": {
      "image/png": "[encoded data removed]",
      "text/plain": [
       "<Figure size 400x400 with 1 Axes>"
      ]
     },
     "metadata": {},
     "output_type": "display_data"
    }
   ],
   "source": [
    "make_pie_q5_q6(\"gender\",[\"female\",\"male\"],\"Percentage of each gender in dataset\") # make a pie chart for genders "
   ]
  },
  {
   "cell_type": "markdown",
   "metadata": {},
   "source": [
    "> about 65% of patients are females and 35% are males"
   ]
  },
  {
   "cell_type": "markdown",
   "metadata": {},
   "source": [
    "### 8- what is the relation between differnt illness and life stage \n",
    "`['Hipertension', 'Diabetes', 'Alcoholism', 'Handcap']`"
   ]
  },
  {
   "cell_type": "code",
   "execution_count": 37,
   "metadata": {},
   "outputs": [],
   "source": [
    "def illnes_and_life_style(illness): # this function plot realtion of illnes anf lif stage \n",
    "    \n",
    "    ''' \n",
    "    this function  is used for get data of patients  disease to get the percentage  \n",
    "    of patients with it  and patients without it  for each life stage then draw a bar chart for this\n",
    "    \n",
    "    \n",
    "    (str) illness     string of  illness to get the percentage  of patients with it  and patients without it \n",
    "    ''' \n",
    "    temp=df.copy() # get copy of data frame  for not modifing the  orginal data\n",
    "    temp[f\"has {illness}\"]=df[illness]!=0   #make a columns to check the patiens have specific disease or not \n",
    "    \n",
    "    # get the precentage of each life stage have specific disease  and precentage of not having \n",
    "    illness_num_lifestage=temp.groupby(\"life_stage\")[f\"has {illness}\"].value_counts(normalize=True).mul(100).unstack() \n",
    "    # make a bar chart between lif stage and precentage \n",
    "    illness_num_lifestage.plot.bar(edgecolor=\"black\",rot=0,width=.8,stacked=True,figsize=[14,4])\n",
    "    # to write good strings on axis xlabel andd ylabel and title \n",
    "    write_text_on_axis(\"life stage\",f\"precentage\".title(),f\"patients who have {illness} and thier life stages\".title()) "
   ]
  },
  {
   "cell_type": "code",
   "execution_count": 38,
   "metadata": {},
   "outputs": [
    {
     "data": {
      "image/png": "[encoded data removed]",
      "text/plain": [
       "<Figure size 1008x288 with 1 Axes>"
      ]
     },
     "metadata": {
      "needs_background": "light"
     },
     "output_type": "display_data"
    },
    {
     "data": {
      "image/png": "[encoded data removed]",
      "text/plain": [
       "<Figure size 1008x288 with 1 Axes>"
      ]
     },
     "metadata": {
      "needs_background": "light"
     },
     "output_type": "display_data"
    },
    {
     "data": {
      "image/png": "[encoded data removed]",
      "text/plain": [
       "<Figure size 1008x288 with 1 Axes>"
      ]
     },
     "metadata": {
      "needs_background": "light"
     },
     "output_type": "display_data"
    },
    {
     "data": {
      "image/png": "[encoded data removed]",
      "text/plain": [
       "<Figure size 1008x288 with 1 Axes>"
      ]
     },
     "metadata": {
      "needs_background": "light"
     },
     "output_type": "display_data"
    }
   ],
   "source": [
    "for i in ['hipertension', 'diabetes', 'alcoholism', 'handcap']: # to draw every illness vs life stage in simple way\n",
    "    illnes_and_life_style(i)"
   ]
  },
  {
   "cell_type": "markdown",
   "metadata": {},
   "source": [
    ">increasing the age of patients make number of patients in illness `[Hipertension\tDiabetes Handcap ]` increase until reach maximium number of patients in senor adults(60+ years old), but in alcoholism illness increasing the age of patients make number of patients in illness until reach maximium number of patients in middle age adult (40-59 years old ) but decrease in senor adults(60+ years old)  and  number of whiole patients decreased from patients of illness 'hipertension' to illness 'diabetes', to illness 'alcoholism',to illness 'handcap'"
   ]
  },
  {
   "cell_type": "markdown",
   "metadata": {},
   "source": [
    "### 9-how many males and female have all diseases "
   ]
  },
  {
   "cell_type": "code",
   "execution_count": 39,
   "metadata": {},
   "outputs": [
    {
     "data": {
      "image/png": "[encoded data removed]",
      "text/plain": [
       "<Figure size 600x400 with 1 Axes>"
      ]
     },
     "metadata": {
      "needs_background": "light"
     },
     "output_type": "display_data"
    }
   ],
   "source": [
    "pat_have_all=df.query(\"handcap>0 and alcoholism >0 and diabetes>0 and hipertension > 0 \") # make query to get gender have all illness\n",
    "pat_have_all_count=pat_have_all.gender.value_counts() # count feamle and males \n",
    "plt.figure( dpi = 100) # to increase the quality of plot \n",
    "plt.bar(pat_have_all_count.index,pat_have_all_count.values,color=[\"blue\",\"pink\"]);\n",
    " # to write good strings on axis xlabel andd ylabel and title \n",
    "write_text_on_axis(\"Gender\",\"count\",\"numbder of patients have all diseases\")"
   ]
  },
  {
   "cell_type": "markdown",
   "metadata": {},
   "source": [
    " > about 7 males and 6 females have all diseases"
   ]
  },
  {
   "cell_type": "markdown",
   "metadata": {},
   "source": [
    "### 10-what is the top ten  Neighbourhood  whose  pateints who have Scholarship "
   ]
  },
  {
   "cell_type": "code",
   "execution_count": 40,
   "metadata": {},
   "outputs": [
    {
     "data": {
      "image/png": "[encoded data removed]",
      "text/plain": [
       "<Figure size 1600x800 with 1 Axes>"
      ]
     },
     "metadata": {
      "needs_background": "light"
     },
     "output_type": "display_data"
    }
   ],
   "source": [
    "patients_with_Scholarship=df.query(\"scholarship ==1 \") # get patients who have Scholarship\n",
    "### get top ten hospitals\n",
    "top_ten=patients_with_Scholarship.groupby(\"neighbourhood\").count().sort_values(by=\"scholarship\")[-10:].scholarship   \n",
    "\n",
    "plt.figure(figsize=(10,5), dpi = 160) # make the size of photo and increase the quality of plot\n",
    "\n",
    "plt.barh(top_ten.index,top_ten.values);  # make a barh for top ten  Neighbourhood  whose  pateints who have Scholarship \n",
    "\n",
    "write_text_on_axis(\"count\",\"Neighbourhood\",\"Top ten hospitals in scholarship\") # to write good striing for xlabel and y label an title\n",
    "\n",
    "for i in range (len(top_ten.values)): # to write the value of each bar on it \n",
    "    y_str_to_write=top_ten.values[i]\n",
    "    plt.text(y_str_to_write+1,i,y_str_to_write,size=13)\n"
   ]
  },
  {
   "cell_type": "markdown",
   "metadata": {},
   "source": [
    "> the top ten  Neighbourhood  whose  pateints who have Scholarship are (ascending in values ) \n",
    "`[Andorinhas,Santo André,Bonfim,São Benedito,Gurigica,Santa Martha,Caratoíra,Resistência,Tabuazeiro,Ilha Do Príncipe ]`\n"
   ]
  },
  {
   "cell_type": "markdown",
   "metadata": {},
   "source": [
    "<a id='conclusions'></a>\n",
    "## Conclusions\n"
   ]
  },
  {
   "cell_type": "markdown",
   "metadata": {},
   "source": [
    "**Along the analysis of no-show appointment data I find some problems in data and I slove it such as renaming columns ,change   wrong data , modify in structre of data (change data type ) , add new features like life stage and month**\n",
    "\n",
    "**In result of  my analysis I found this**\n",
    "\n",
    "patients  showed up about less than  25% of them  had illnesses(Hipertension-Alcoholism-Alcoholism-Alcoholism-Handcap,  \n",
    "average age about 38 years  and about of 80% of all patients , the day in which big number of patients was 2016-06-16,\n",
    "the most month had a pressure in hospitals  was May with precentage about 72.6% so number of  people who work in hoiptal should be increased , about 21 % of patients who go to hosiptal in thier appointment go more than once and about 80% of males and females do show up and about 20% of males and females do not  show up  .\n",
    "\n",
    "patients  of whole data set had  range of age from  0 to 115 years old  and average age equal 37 years old ,\n",
    "about 27.2% of patients were middle age adult( 40-59 years) , 26.1 % are adult(20-39 years )  and 19.2 are senior adult(60+)  and about 27.6 are less than 18 years old, about 65% of patients  are females  and 35% of patients  are males.\n",
    "\n",
    "increasing the age of patients make number of patients in illness `[Hipertension\tDiabetes Handcap ]` increase until reach maximium number of patients in senor adults(60+ years old), but in alcoholism illness increasing the age of patients make number of patients in illness until reach maximium number of patients in middle age adult (40-59 years old ) but decrease insenor adults(60+ years old)  and  number of whiole patients decreased from patients of illness 'hipertension' to illness 'diabetes', to illness 'alcoholism',to illness 'handcap'\n",
    "\n",
    "there are  7 males and 6 females had  all diseases (Hipertension-Alcoholism-Alcoholism-Alcoholism-Handcap),\n",
    "the top ten  Neighbourhood  whose  pateints who have Scholarship are (ascending in values ) `[Andorinhas,Santo André,Bonfim,São Benedito,Gurigica,Santa Martha,Caratoíra,Resistência,Tabuazeiro,Ilha Do Príncipe ]`\n",
    "\n",
    "\n",
    "**Data limiting**\n",
    "- there is a patient have an age -1  I mover it to  seperatted data frame because i can't deal with it \n"
   ]
  },
  {
   "cell_type": "code",
   "execution_count": 41,
   "metadata": {},
   "outputs": [
    {
     "data": {
      "text/plain": [
       "4294967295"
      ]
     },
     "execution_count": 41,
     "metadata": {},
     "output_type": "execute_result"
    }
   ],
   "source": [
    "from subprocess import call\n",
    "call(['python', '-m', 'nbconvert', 'Investigate_a_Dataset.ipynb'])"
   ]
  }
 ],
 "metadata": {
  "kernelspec": {
   "display_name": "Python 3 (ipykernel)",
   "language": "python",
   "name": "python3"
  },
  "language_info": {
   "codemirror_mode": {
    "name": "ipython",
    "version": 3
   },
   "file_extension": ".py",
   "mimetype": "text/x-python",
   "name": "python",
   "nbconvert_exporter": "python",
   "pygments_lexer": "ipython3",
   "version": "3.8.10"
  }
 },
 "nbformat": 4,
 "nbformat_minor": 2
}
